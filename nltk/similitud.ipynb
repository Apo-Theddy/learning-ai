{
 "cells": [
  {
   "cell_type": "code",
   "execution_count": 1,
   "metadata": {},
   "outputs": [],
   "source": [
    "!pip install gensim -q"
   ]
  },
  {
   "cell_type": "code",
   "execution_count": 2,
   "metadata": {},
   "outputs": [],
   "source": [
    "import gensim"
   ]
  },
  {
   "cell_type": "code",
   "execution_count": 3,
   "metadata": {},
   "outputs": [],
   "source": [
    "vectores = gensim.models.KeyedVectors.load_word2vec_format(\"SBW-vectors-300-min5.txt\")"
   ]
  },
  {
   "cell_type": "code",
   "execution_count": 4,
   "metadata": {},
   "outputs": [],
   "source": [
    "def analogias(v1,v2,v3):\n",
    " similitud = vectores.most_similar(positive=[v1,v3],negative=[v2])\n",
    " print(f\"{v1} es a {v2} como {similitud[0][0]} es a {v3}\")"
   ]
  },
  {
   "cell_type": "code",
   "execution_count": 5,
   "metadata": {},
   "outputs": [
    {
     "name": "stdout",
     "output_type": "stream",
     "text": [
      "rey es a hombre como reina es a mujer\n"
     ]
    }
   ],
   "source": [
    "analogias(\"rey\",\"hombre\",\"mujer\")"
   ]
  },
  {
   "cell_type": "code",
   "execution_count": 6,
   "metadata": {},
   "outputs": [
    {
     "name": "stdout",
     "output_type": "stream",
     "text": [
      "alemania es a aleman como España es a español\n"
     ]
    }
   ],
   "source": [
    "analogias(\"alemania\",\"aleman\",\"español\")"
   ]
  },
  {
   "cell_type": "code",
   "execution_count": 7,
   "metadata": {},
   "outputs": [
    {
     "name": "stdout",
     "output_type": "stream",
     "text": [
      "pan es a trigo como yogur es a leche\n"
     ]
    }
   ],
   "source": [
    "analogias(\"pan\",\"trigo\",\"leche\")"
   ]
  },
  {
   "cell_type": "code",
   "execution_count": 8,
   "metadata": {},
   "outputs": [
    {
     "name": "stdout",
     "output_type": "stream",
     "text": [
      "[('monarca', 0.8033342957496643), ('reyes', 0.7648581862449646), ('reino', 0.7598406076431274), ('príncipe', 0.7326977252960205), ('reina', 0.7253803014755249), ('Harthacnut', 0.7045773863792419), ('Ragnald', 0.7024436593055725), ('Sverkersson', 0.7003424167633057), ('regente', 0.6984726786613464), ('Hardeknut', 0.6976818442344666)]\n"
     ]
    }
   ],
   "source": [
    "print()"
   ]
  }
 ],
 "metadata": {
  "kernelspec": {
   "display_name": "base",
   "language": "python",
   "name": "python3"
  },
  "language_info": {
   "codemirror_mode": {
    "name": "ipython",
    "version": 3
   },
   "file_extension": ".py",
   "mimetype": "text/x-python",
   "name": "python",
   "nbconvert_exporter": "python",
   "pygments_lexer": "ipython3",
   "version": "3.11.7"
  }
 },
 "nbformat": 4,
 "nbformat_minor": 2
}
