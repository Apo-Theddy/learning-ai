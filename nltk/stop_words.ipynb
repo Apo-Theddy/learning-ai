{
 "cells": [
  {
   "cell_type": "code",
   "execution_count": 2,
   "metadata": {},
   "outputs": [
    {
     "name": "stderr",
     "output_type": "stream",
     "text": [
      "[nltk_data] Downloading package stopwords to\n",
      "[nltk_data]     C:\\Users\\Dev\\AppData\\Roaming\\nltk_data...\n",
      "[nltk_data]   Package stopwords is already up-to-date!\n"
     ]
    },
    {
     "data": {
      "text/plain": [
       "True"
      ]
     },
     "execution_count": 2,
     "metadata": {},
     "output_type": "execute_result"
    }
   ],
   "source": [
    "import nltk\n",
    "nltk.download(\"stopwords\")"
   ]
  },
  {
   "cell_type": "code",
   "execution_count": 3,
   "metadata": {},
   "outputs": [],
   "source": [
    "from nltk.corpus import stopwords\n",
    "from nltk.tokenize import word_tokenize "
   ]
  },
  {
   "cell_type": "code",
   "execution_count": 4,
   "metadata": {},
   "outputs": [
    {
     "name": "stdout",
     "output_type": "stream",
     "text": [
      "{'tengan', 'tenga', 'tendría', 'sea', 'esté', 'también', 'vuestro', 'hayáis', 'fuiste', 'algo', 'habidos', 'tendréis', 'habría', 'hemos', 'tuviesen', 'tendrás', 'suya', 'estuvieses', 'mío', 'tuyo', 'les', 'hubieran', 'tengas', 'un', 'suyas', 'estadas', 'tuviéramos', 'serás', 'habrán', 'estará', 'del', 'mis', 'tuviésemos', 'tendrá', 'habíamos', 'a', 'ante', 'ya', 'estada', 'fueseis', 'poco', 'os', 'esta', 'tenían', 'tuyas', 'esas', 'y', 'hay', 'estuvo', 'ellas', 'estén', 'hubisteis', 'hayamos', 'soy', 'tendrían', 'hubieses', 'tenidas', 'sentida', 'sí', 'seré', 'tenéis', 'fue', 'estados', 'habrá', 'habidas', 'una', 'estos', 'estuvieseis', 'me', 'tenida', 'estarías', 'mí', 'esto', 'mía', 'eran', 'estarían', 'tened', 'tuvieseis', 'habida', 'tengamos', 'vuestros', 'tanto', 'o', 'estaban', 'estaríamos', 'seremos', 'nos', 'de', 'fuimos', 'siente', 'estando', 'tendrías', 'fuisteis', 'han', 'fueses', 'estar', 'estuviésemos', 'uno', 'tiene', 'estáis', 'nuestro', 'estuvierais', 'estuve', 'habríamos', 'hubieras', 'hubieseis', 'ti', 'estuvieras', 'serías', 'nosotras', 'sentidos', 'ella', 'era', 'fuerais', 'donde', 'desde', 'todo', 'están', 'estuviesen', 'vuestras', 'habrías', 'tenidos', 'estoy', 'hubo', 'tuya', 'habéis', 'tuvieses', 'le', 'habréis', 'suyo', 'ese', 'seáis', 'entre', 'todos', 'míos', 'nuestras', 'estás', 'ni', 'tenemos', 'tienes', 'estuviéramos', 'hubierais', 'estuviese', 'seas', 'seamos', 'hubimos', 'tenías', 'teniendo', 'estuvimos', 'hubiesen', 'vuestra', 'estaremos', 'estaréis', 'sean', 'los', 'cual', 'eres', 'tengáis', 'como', 'hubieron', 'este', 'sin', 'cuando', 'has', 'fuéramos', 'fueran', 'mucho', 'tuvo', 'sería', 'esa', 'estado', 'seríais', 'mías', 'habido', 'tú', 'sentidas', 'esos', 'tienen', 'eso', 'tuve', 'tenía', 'qué', 'con', 'tuyos', 'tuvimos', 'al', 'será', 'hayan', 'estaré', 'somos', 'su', 'es', 'sintiendo', 'tendré', 'e', 'estuviera', 'haya', 'seréis', 'son', 'en', 'tuviera', 'estaba', 'fuésemos', 'teníamos', 'sobre', 'hayas', 'lo', 'estábamos', 'estuviste', 'tus', 'fueron', 'estas', 'tuviste', 'la', 'sus', 'tuvisteis', 'erais', 'fuesen', 'eras', 'algunas', 'muy', 'teníais', 'habiendo', 'tendríamos', 'pero', 'tuvieron', 'algunos', 'estabas', 'habían', 'estuvieron', 'contra', 'sentido', 'habíais', 'seríamos', 'estés', 'nuestros', 'hubiera', 'estaríais', 'te', 'habré', 'estuvisteis', 'unos', 'sentid', 'habrían', 'que', 'estad', 'habremos', 'hubiésemos', 'estarás', 'el', 'ellos', 'he', 'tendremos', 'sois', 'había', 'estéis', 'tuvieran', 'quienes', 'estaría', 'fui', 'habrás', 'porque', 'serían', 'antes', 'tenido', 'serán', 'hube', 'se', 'ha', 'habías', 'tendríais', 'suyos', 'yo', 'éramos', 'tuvieras', 'hubiese', 'hubiste', 'nada', 'mi', 'él', 'otro', 'por', 'nosotros', 'tengo', 'durante', 'vosotros', 'tuviese', 'muchos', 'tuvierais', 'más', 'otra', 'está', 'estamos', 'fueras', 'estarán', 'tu', 'fuera', 'otras', 'estemos', 'habríais', 'hubiéramos', 'hasta', 'nuestra', 'fuese', 'no', 'para', 'quien', 'tendrán', 'estuvieran', 'estabais', 'las', 'vosotras', 'otros'}\n"
     ]
    }
   ],
   "source": [
    "stop_words = set(stopwords.words(\"spanish\"))\n",
    "print(stop_words)"
   ]
  },
  {
   "cell_type": "code",
   "execution_count": 5,
   "metadata": {},
   "outputs": [
    {
     "name": "stdout",
     "output_type": "stream",
     "text": [
      "['El', 'gato', 'es', 'negro', 'y', 'el', 'perro', 'es', 'blanco']\n"
     ]
    }
   ],
   "source": [
    "texto = \"El gato es negro y el perro es blanco\";\n",
    "tokens = word_tokenize(texto)\n",
    "print(tokens)"
   ]
  },
  {
   "cell_type": "code",
   "execution_count": 13,
   "metadata": {},
   "outputs": [],
   "source": [
    "texto = texto.lower()\n",
    "tokens = word_tokenize(texto)\n",
    "text_filtrado = [word for word in tokens if not word in stop_words]"
   ]
  },
  {
   "cell_type": "code",
   "execution_count": 14,
   "metadata": {},
   "outputs": [
    {
     "name": "stdout",
     "output_type": "stream",
     "text": [
      "['gato', 'negro', 'perro', 'blanco']\n"
     ]
    }
   ],
   "source": [
    "print(text_filtrado)"
   ]
  },
  {
   "cell_type": "code",
   "execution_count": null,
   "metadata": {},
   "outputs": [],
   "source": []
  }
 ],
 "metadata": {
  "kernelspec": {
   "display_name": "base",
   "language": "python",
   "name": "python3"
  },
  "language_info": {
   "codemirror_mode": {
    "name": "ipython",
    "version": 3
   },
   "file_extension": ".py",
   "mimetype": "text/x-python",
   "name": "python",
   "nbconvert_exporter": "python",
   "pygments_lexer": "ipython3",
   "version": "3.11.7"
  }
 },
 "nbformat": 4,
 "nbformat_minor": 2
}
