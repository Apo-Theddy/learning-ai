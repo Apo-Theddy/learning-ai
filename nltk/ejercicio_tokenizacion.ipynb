{
 "cells": [
  {
   "cell_type": "code",
   "execution_count": 1,
   "metadata": {},
   "outputs": [
    {
     "name": "stdout",
     "output_type": "stream",
     "text": [
      "Requirement already satisfied: scikit-learn in c:\\users\\dev\\anaconda3\\lib\\site-packages (1.2.2)\n",
      "Collecting scikit-learn\n",
      "  Downloading scikit_learn-1.4.1.post1-cp311-cp311-win_amd64.whl.metadata (11 kB)\n",
      "Requirement already satisfied: numpy<2.0,>=1.19.5 in c:\\users\\dev\\anaconda3\\lib\\site-packages (from scikit-learn) (1.26.4)\n",
      "Requirement already satisfied: scipy>=1.6.0 in c:\\users\\dev\\anaconda3\\lib\\site-packages (from scikit-learn) (1.11.4)\n",
      "Requirement already satisfied: joblib>=1.2.0 in c:\\users\\dev\\anaconda3\\lib\\site-packages (from scikit-learn) (1.2.0)\n",
      "Requirement already satisfied: threadpoolctl>=2.0.0 in c:\\users\\dev\\anaconda3\\lib\\site-packages (from scikit-learn) (2.2.0)\n",
      "Downloading scikit_learn-1.4.1.post1-cp311-cp311-win_amd64.whl (10.6 MB)\n",
      "   ---------------------------------------- 0.0/10.6 MB ? eta -:--:--\n",
      "   ---------------------------------------- 0.0/10.6 MB 640.0 kB/s eta 0:00:17\n",
      "   ---------------------------------------- 0.1/10.6 MB 812.7 kB/s eta 0:00:14\n",
      "    --------------------------------------- 0.2/10.6 MB 1.4 MB/s eta 0:00:08\n",
      "   - -------------------------------------- 0.3/10.6 MB 1.9 MB/s eta 0:00:06\n",
      "   -- ------------------------------------- 0.6/10.6 MB 2.9 MB/s eta 0:00:04\n",
      "   --- ------------------------------------ 1.0/10.6 MB 3.6 MB/s eta 0:00:03\n",
      "   ---- ----------------------------------- 1.3/10.6 MB 4.3 MB/s eta 0:00:03\n",
      "   ------ --------------------------------- 1.8/10.6 MB 5.1 MB/s eta 0:00:02\n",
      "   -------- ------------------------------- 2.2/10.6 MB 5.6 MB/s eta 0:00:02\n",
      "   ---------- ----------------------------- 2.7/10.6 MB 6.2 MB/s eta 0:00:02\n",
      "   ------------ --------------------------- 3.3/10.6 MB 6.6 MB/s eta 0:00:02\n",
      "   -------------- ------------------------- 3.8/10.6 MB 7.0 MB/s eta 0:00:01\n",
      "   ---------------- ----------------------- 4.3/10.6 MB 7.4 MB/s eta 0:00:01\n",
      "   ------------------ --------------------- 4.8/10.6 MB 7.5 MB/s eta 0:00:01\n",
      "   -------------------- ------------------- 5.4/10.6 MB 8.0 MB/s eta 0:00:01\n",
      "   --------------------- ------------------ 5.8/10.6 MB 8.0 MB/s eta 0:00:01\n",
      "   ----------------------- ---------------- 6.3/10.6 MB 8.3 MB/s eta 0:00:01\n",
      "   ------------------------- -------------- 6.8/10.6 MB 8.4 MB/s eta 0:00:01\n",
      "   -------------------------- ------------- 7.0/10.6 MB 8.4 MB/s eta 0:00:01\n",
      "   --------------------------- ------------ 7.4/10.6 MB 8.1 MB/s eta 0:00:01\n",
      "   ----------------------------- ---------- 7.9/10.6 MB 8.3 MB/s eta 0:00:01\n",
      "   ------------------------------- -------- 8.4/10.6 MB 8.4 MB/s eta 0:00:01\n",
      "   --------------------------------- ------ 8.9/10.6 MB 8.5 MB/s eta 0:00:01\n",
      "   ----------------------------------- ---- 9.3/10.6 MB 8.5 MB/s eta 0:00:01\n",
      "   ------------------------------------ --- 9.8/10.6 MB 8.5 MB/s eta 0:00:01\n",
      "   -------------------------------------- - 10.3/10.6 MB 9.1 MB/s eta 0:00:01\n",
      "   ---------------------------------------  10.6/10.6 MB 9.8 MB/s eta 0:00:01\n",
      "   ---------------------------------------- 10.6/10.6 MB 9.6 MB/s eta 0:00:00\n",
      "Installing collected packages: scikit-learn\n",
      "  Attempting uninstall: scikit-learn\n",
      "    Found existing installation: scikit-learn 1.2.2\n",
      "    Uninstalling scikit-learn-1.2.2:\n",
      "      Successfully uninstalled scikit-learn-1.2.2\n",
      "Successfully installed scikit-learn-1.4.1.post1\n"
     ]
    }
   ],
   "source": [
    "# Tokenizacion\n",
    "!pip install -U scikit-learn"
   ]
  },
  {
   "cell_type": "code",
   "execution_count": 2,
   "metadata": {},
   "outputs": [],
   "source": [
    "import pandas as pd"
   ]
  },
  {
   "cell_type": "code",
   "execution_count": 3,
   "metadata": {},
   "outputs": [],
   "source": [
    "df = pd.read_csv(\"df_total.csv\",encoding=\"UTF-8\")"
   ]
  },
  {
   "cell_type": "code",
   "execution_count": 4,
   "metadata": {},
   "outputs": [
    {
     "data": {
      "text/html": [
       "<div>\n",
       "<style scoped>\n",
       "    .dataframe tbody tr th:only-of-type {\n",
       "        vertical-align: middle;\n",
       "    }\n",
       "\n",
       "    .dataframe tbody tr th {\n",
       "        vertical-align: top;\n",
       "    }\n",
       "\n",
       "    .dataframe thead th {\n",
       "        text-align: right;\n",
       "    }\n",
       "</style>\n",
       "<table border=\"1\" class=\"dataframe\">\n",
       "  <thead>\n",
       "    <tr style=\"text-align: right;\">\n",
       "      <th></th>\n",
       "      <th>url</th>\n",
       "      <th>news</th>\n",
       "      <th>Type</th>\n",
       "    </tr>\n",
       "  </thead>\n",
       "  <tbody>\n",
       "    <tr>\n",
       "      <th>0</th>\n",
       "      <td>https://www.larepublica.co/redirect/post/3201905</td>\n",
       "      <td>Durante el foro La banca articulador empresari...</td>\n",
       "      <td>Otra</td>\n",
       "    </tr>\n",
       "    <tr>\n",
       "      <th>1</th>\n",
       "      <td>https://www.larepublica.co/redirect/post/3210288</td>\n",
       "      <td>El regulador de valores de China dijo el domin...</td>\n",
       "      <td>Regulaciones</td>\n",
       "    </tr>\n",
       "    <tr>\n",
       "      <th>2</th>\n",
       "      <td>https://www.larepublica.co/redirect/post/3240676</td>\n",
       "      <td>En una industria históricamente masculina como...</td>\n",
       "      <td>Alianzas</td>\n",
       "    </tr>\n",
       "    <tr>\n",
       "      <th>3</th>\n",
       "      <td>https://www.larepublica.co/redirect/post/3342889</td>\n",
       "      <td>Con el dato de marzo el IPC interanual encaden...</td>\n",
       "      <td>Macroeconomia</td>\n",
       "    </tr>\n",
       "    <tr>\n",
       "      <th>4</th>\n",
       "      <td>https://www.larepublica.co/redirect/post/3427208</td>\n",
       "      <td>Ayer en Cartagena se dio inicio a la versión n...</td>\n",
       "      <td>Otra</td>\n",
       "    </tr>\n",
       "    <tr>\n",
       "      <th>...</th>\n",
       "      <td>...</td>\n",
       "      <td>...</td>\n",
       "      <td>...</td>\n",
       "    </tr>\n",
       "    <tr>\n",
       "      <th>1212</th>\n",
       "      <td>https://www.bbva.com/es/como-lograr-que-los-in...</td>\n",
       "      <td>En la vida de toda empresa emergente llega un ...</td>\n",
       "      <td>Innovacion</td>\n",
       "    </tr>\n",
       "    <tr>\n",
       "      <th>1213</th>\n",
       "      <td>https://www.bbva.com/es/podcast-como-nos-afect...</td>\n",
       "      <td>La espiral alcista de los precios continúa y g...</td>\n",
       "      <td>Macroeconomia</td>\n",
       "    </tr>\n",
       "    <tr>\n",
       "      <th>1214</th>\n",
       "      <td>https://www.larepublica.co/redirect/post/3253735</td>\n",
       "      <td>Las grandes derrotas nacionales son experienci...</td>\n",
       "      <td>Alianzas</td>\n",
       "    </tr>\n",
       "    <tr>\n",
       "      <th>1215</th>\n",
       "      <td>https://www.bbva.com/es/bbva-y-barcelona-healt...</td>\n",
       "      <td>BBVA ha alcanzado un acuerdo de colaboración c...</td>\n",
       "      <td>Innovacion</td>\n",
       "    </tr>\n",
       "    <tr>\n",
       "      <th>1216</th>\n",
       "      <td>https://www.larepublica.co/redirect/post/3263980</td>\n",
       "      <td>Casi entrando a la parte final de noviembre la...</td>\n",
       "      <td>Alianzas</td>\n",
       "    </tr>\n",
       "  </tbody>\n",
       "</table>\n",
       "<p>1217 rows × 3 columns</p>\n",
       "</div>"
      ],
      "text/plain": [
       "                                                    url  \\\n",
       "0      https://www.larepublica.co/redirect/post/3201905   \n",
       "1      https://www.larepublica.co/redirect/post/3210288   \n",
       "2      https://www.larepublica.co/redirect/post/3240676   \n",
       "3      https://www.larepublica.co/redirect/post/3342889   \n",
       "4      https://www.larepublica.co/redirect/post/3427208   \n",
       "...                                                 ...   \n",
       "1212  https://www.bbva.com/es/como-lograr-que-los-in...   \n",
       "1213  https://www.bbva.com/es/podcast-como-nos-afect...   \n",
       "1214   https://www.larepublica.co/redirect/post/3253735   \n",
       "1215  https://www.bbva.com/es/bbva-y-barcelona-healt...   \n",
       "1216   https://www.larepublica.co/redirect/post/3263980   \n",
       "\n",
       "                                                   news           Type  \n",
       "0     Durante el foro La banca articulador empresari...           Otra  \n",
       "1     El regulador de valores de China dijo el domin...   Regulaciones  \n",
       "2     En una industria históricamente masculina como...       Alianzas  \n",
       "3     Con el dato de marzo el IPC interanual encaden...  Macroeconomia  \n",
       "4     Ayer en Cartagena se dio inicio a la versión n...           Otra  \n",
       "...                                                 ...            ...  \n",
       "1212  En la vida de toda empresa emergente llega un ...     Innovacion  \n",
       "1213  La espiral alcista de los precios continúa y g...  Macroeconomia  \n",
       "1214  Las grandes derrotas nacionales son experienci...       Alianzas  \n",
       "1215  BBVA ha alcanzado un acuerdo de colaboración c...     Innovacion  \n",
       "1216  Casi entrando a la parte final de noviembre la...       Alianzas  \n",
       "\n",
       "[1217 rows x 3 columns]"
      ]
     },
     "execution_count": 4,
     "metadata": {},
     "output_type": "execute_result"
    }
   ],
   "source": [
    "df"
   ]
  },
  {
   "cell_type": "code",
   "execution_count": 11,
   "metadata": {},
   "outputs": [],
   "source": [
    "# Separamos los datos en variables de entrada y etiqueta\n",
    "X = df[\"news\"]\n",
    "y = df[\"Type\"]"
   ]
  },
  {
   "cell_type": "code",
   "execution_count": 6,
   "metadata": {},
   "outputs": [
    {
     "name": "stdout",
     "output_type": "stream",
     "text": [
      "Type\n",
      "Macroeconomia     340\n",
      "Alianzas          247\n",
      "Innovacion        195\n",
      "Regulaciones      142\n",
      "Sostenibilidad    137\n",
      "Otra              130\n",
      "Reputacion         26\n",
      "Name: count, dtype: int64\n"
     ]
    }
   ],
   "source": [
    "print(df[\"Type\"].value_counts())"
   ]
  },
  {
   "cell_type": "code",
   "execution_count": 9,
   "metadata": {},
   "outputs": [],
   "source": [
    "from sklearn.model_selection import train_test_split"
   ]
  },
  {
   "cell_type": "code",
   "execution_count": 25,
   "metadata": {},
   "outputs": [],
   "source": [
    "X_train,X_test,y_train,y_test = train_test_split(X,y,test_size=0.2)"
   ]
  },
  {
   "cell_type": "code",
   "execution_count": 13,
   "metadata": {},
   "outputs": [
    {
     "data": {
      "text/plain": [
       "1147    Con la llegada de Gustavo Petro a la Presidenc...\n",
       "620     La necesidad de cumplir con el aislamiento obl...\n",
       "844     La extracción de petróleo y la refinación de a...\n",
       "388                                                      \n",
       "475     Desde mañana 31 de agosto al tres de septiembr...\n",
       "                              ...                        \n",
       "708     La publicación británica vuelve a reconocer a ...\n",
       "804     El crecimiento global será en los próximos dos...\n",
       "744     Seguros Bolívar obtuvo el registro de una pate...\n",
       "1004    Cada vez son más las fintech que apuestan por ...\n",
       "756     En medio de la XVI Cumbre de la Alianza del Pa...\n",
       "Name: news, Length: 973, dtype: object"
      ]
     },
     "execution_count": 13,
     "metadata": {},
     "output_type": "execute_result"
    }
   ],
   "source": [
    "X_train"
   ]
  },
  {
   "cell_type": "code",
   "execution_count": 14,
   "metadata": {},
   "outputs": [
    {
     "data": {
      "text/plain": [
       "819     Esta semana en el 'podcast' de ‘Futuro sosteni...\n",
       "90      Durante marzo los socios de los emisores de la...\n",
       "771     Para celebrar el Día Nacional del Tendero la F...\n",
       "480     El favorito para la presidencia Luiz Inacio Lu...\n",
       "1050    Apple Inc. aumentando su gasto en podcasts ori...\n",
       "                              ...                        \n",
       "745     Durante el primer y segundo trimestre del año ...\n",
       "406     Para que la electricidad fluya es esencial la ...\n",
       "622     Desde su lanzamiento en febrero de 2020 y a ci...\n",
       "598     Imagínense en este país si un candidato tiene ...\n",
       "667     En el día de la madre sin duda se realizaron d...\n",
       "Name: news, Length: 244, dtype: object"
      ]
     },
     "execution_count": 14,
     "metadata": {},
     "output_type": "execute_result"
    }
   ],
   "source": [
    "X_test"
   ]
  },
  {
   "cell_type": "code",
   "execution_count": 26,
   "metadata": {},
   "outputs": [],
   "source": [
    "from sklearn.feature_extraction.text import CountVectorizer"
   ]
  },
  {
   "cell_type": "code",
   "execution_count": 27,
   "metadata": {},
   "outputs": [],
   "source": [
    "vectorizer = CountVectorizer()"
   ]
  },
  {
   "cell_type": "code",
   "execution_count": 28,
   "metadata": {},
   "outputs": [],
   "source": [
    "X_train_transformed = vectorizer.fit_transform(X_train)\n",
    "X_test_tranformed = vectorizer.transform(X_test)"
   ]
  },
  {
   "cell_type": "code",
   "execution_count": 29,
   "metadata": {},
   "outputs": [
    {
     "name": "stdout",
     "output_type": "stream",
     "text": [
      "[[0 0 0 ... 0 0 0]\n",
      " [0 0 0 ... 0 0 0]\n",
      " [0 0 0 ... 0 0 0]\n",
      " ...\n",
      " [0 6 0 ... 0 0 0]\n",
      " [0 0 0 ... 0 0 0]\n",
      " [0 0 0 ... 0 0 0]]\n"
     ]
    }
   ],
   "source": [
    "X_train_tranformed_dense = X_train_transformed.toarray()\n",
    "print(X_train_tranformed_dense)"
   ]
  },
  {
   "cell_type": "code",
   "execution_count": 31,
   "metadata": {},
   "outputs": [
    {
     "data": {
      "text/plain": [
       "<973x26497 sparse matrix of type '<class 'numpy.int64'>'\n",
       "\twith 232017 stored elements in Compressed Sparse Row format>"
      ]
     },
     "execution_count": 31,
     "metadata": {},
     "output_type": "execute_result"
    }
   ],
   "source": [
    "X_train_transformed"
   ]
  },
  {
   "cell_type": "code",
   "execution_count": 30,
   "metadata": {},
   "outputs": [],
   "source": [
    "from sklearn.naive_bayes import MultinomialNB\n",
    "from sklearn import metrics"
   ]
  },
  {
   "cell_type": "code",
   "execution_count": 32,
   "metadata": {},
   "outputs": [
    {
     "name": "stdout",
     "output_type": "stream",
     "text": [
      "0.7540983606557377\n"
     ]
    }
   ],
   "source": [
    "model = MultinomialNB()\n",
    "model.fit(X_train_transformed,y_train)\n",
    "y_pred = model.predict(X_test_tranformed)\n",
    "print(metrics.accuracy_score(y_test,y_pred))"
   ]
  },
  {
   "cell_type": "code",
   "execution_count": 33,
   "metadata": {},
   "outputs": [],
   "source": [
    "# Stemming\n",
    "\n",
    "import nltk\n",
    "from nltk.tokenize import word_tokenize \n",
    "from nltk.stem import SnowballStemmer\n",
    "from nltk.corpus import stopwords"
   ]
  },
  {
   "cell_type": "code",
   "execution_count": 34,
   "metadata": {},
   "outputs": [
    {
     "name": "stderr",
     "output_type": "stream",
     "text": [
      "[nltk_data] Downloading package punkt to\n",
      "[nltk_data]     C:\\Users\\Dev\\AppData\\Roaming\\nltk_data...\n",
      "[nltk_data]   Package punkt is already up-to-date!\n",
      "[nltk_data] Downloading package stopwords to\n",
      "[nltk_data]     C:\\Users\\Dev\\AppData\\Roaming\\nltk_data...\n",
      "[nltk_data]   Package stopwords is already up-to-date!\n"
     ]
    },
    {
     "data": {
      "text/plain": [
       "True"
      ]
     },
     "execution_count": 34,
     "metadata": {},
     "output_type": "execute_result"
    }
   ],
   "source": [
    "nltk.download(\"punkt\")\n",
    "nltk.download(\"stopwords\")"
   ]
  },
  {
   "cell_type": "code",
   "execution_count": 35,
   "metadata": {},
   "outputs": [],
   "source": [
    "stemmer = SnowballStemmer(\"spanish\")\n",
    "def tokenize_and_stem(text):\n",
    " tokens = word_tokenize(text.lower())\n",
    " stems = [stemmer.stem(token) for token in tokens if token.isalpha()]\n",
    " return \" \".join(stems)"
   ]
  },
  {
   "cell_type": "code",
   "execution_count": 36,
   "metadata": {},
   "outputs": [],
   "source": [
    "df[\"new_stemmer\"] = df[\"news\"].apply(tokenize_and_stem)"
   ]
  },
  {
   "cell_type": "code",
   "execution_count": 38,
   "metadata": {},
   "outputs": [
    {
     "data": {
      "text/plain": [
       "0       durant el for la banc articul empresarial par ...\n",
       "1       el regul de valor de chin dij el doming que bu...\n",
       "2       en una industri histor masculin com lo es la a...\n",
       "3       con el dat de marz el ipc interanual encaden s...\n",
       "4       ayer en cartagen se dio inici a la version num...\n",
       "                              ...                        \n",
       "1212    en la vid de tod empres emergent lleg un momen...\n",
       "1213    la espiral alcist de los preci continu y gener...\n",
       "1214    las grand derrot nacional son experient trauma...\n",
       "1215    bbva ha alcanz un acuerd de colabor con barcel...\n",
       "1216    casi entrand a la part final de noviembr la ep...\n",
       "Name: new_stemmer, Length: 1217, dtype: object"
      ]
     },
     "execution_count": 38,
     "metadata": {},
     "output_type": "execute_result"
    }
   ],
   "source": [
    "df[\"new_stemmer\"]"
   ]
  },
  {
   "cell_type": "code",
   "execution_count": 41,
   "metadata": {},
   "outputs": [
    {
     "name": "stdout",
     "output_type": "stream",
     "text": [
      "0.7991803278688525\n"
     ]
    }
   ],
   "source": [
    "X = df[\"new_stemmer\"]\n",
    "y = df[\"Type\"]\n",
    "X_train,X_test,y_train,y_test = train_test_split(X,y,test_size=0.2)\n",
    "vectorizer = CountVectorizer()\n",
    "X_train_transformed = vectorizer.fit_transform(X_train)\n",
    "X_test_tranformed = vectorizer.transform(X_test)\n",
    "\n",
    "model = MultinomialNB()\n",
    "model.fit(X_train_transformed,y_train)\n",
    "\n",
    "# Medimos el rendimiendo del modelo\n",
    "y_pred = model.predict(X_test_tranformed)\n",
    "print(metrics.accuracy_score(y_test,y_pred))"
   ]
  },
  {
   "cell_type": "code",
   "execution_count": 46,
   "metadata": {},
   "outputs": [],
   "source": [
    "# Lemmatization\n",
    "import spacy"
   ]
  },
  {
   "cell_type": "code",
   "execution_count": 47,
   "metadata": {},
   "outputs": [],
   "source": [
    "nlp = spacy.load(\"es_core_news_sm\")"
   ]
  },
  {
   "cell_type": "code",
   "execution_count": 49,
   "metadata": {},
   "outputs": [],
   "source": [
    "def lemmatize_text(text):\n",
    " doc = nlp(text.lower())\n",
    " lemmas = [token.lemma_ for token in doc if token.is_alpha]\n",
    " return \" \".join(lemmas)"
   ]
  },
  {
   "cell_type": "code",
   "execution_count": 50,
   "metadata": {},
   "outputs": [],
   "source": [
    "df[\"news_lemma\"] = df[\"news\"].apply(lemmatize_text)"
   ]
  },
  {
   "cell_type": "code",
   "execution_count": 51,
   "metadata": {},
   "outputs": [
    {
     "data": {
      "text/plain": [
       "0       durante el foro el banca articulador empresari...\n",
       "1       el regulador de valor de china decir el doming...\n",
       "2       en uno industria históricamente masculino como...\n",
       "3       con el dato de marzo el ipc interanual encaden...\n",
       "4       ayer en cartagena él dar inicio a el versión n...\n",
       "                              ...                        \n",
       "1212    en el vida de todo empresa emergente llegar un...\n",
       "1213    el espiral alcista de el precio continuar y ge...\n",
       "1214    el grande derrota nacional ser experiencia tra...\n",
       "1215    bbva haber alcanzar uno acuerdo de colaboració...\n",
       "1216    casi entrar a el parte final de noviembre el é...\n",
       "Name: news_lemma, Length: 1217, dtype: object"
      ]
     },
     "execution_count": 51,
     "metadata": {},
     "output_type": "execute_result"
    }
   ],
   "source": [
    "df[\"news_lemma\"]"
   ]
  },
  {
   "cell_type": "code",
   "execution_count": 56,
   "metadata": {},
   "outputs": [
    {
     "name": "stdout",
     "output_type": "stream",
     "text": [
      "0.8278688524590164\n"
     ]
    }
   ],
   "source": [
    "X = df[\"news_lemma\"]\n",
    "y = df[\"Type\"]\n",
    "X_train,X_test,y_train,y_test = train_test_split(X,y,test_size=0.2)\n",
    "vectorizer = CountVectorizer()\n",
    "X_train_transformed = vectorizer.fit_transform(X_train)\n",
    "X_test_tranformed = vectorizer.transform(X_test)\n",
    "\n",
    "model = MultinomialNB()\n",
    "model.fit(X_train_transformed,y_train)\n",
    "\n",
    "# Medimos el rendimiendo del modelo\n",
    "y_pred = model.predict(X_test_tranformed)\n",
    "print(metrics.accuracy_score(y_test,y_pred)))"
   ]
  },
  {
   "cell_type": "code",
   "execution_count": 57,
   "metadata": {},
   "outputs": [
    {
     "data": {
      "text/plain": [
       "<973x16870 sparse matrix of type '<class 'numpy.int64'>'\n",
       "\twith 195350 stored elements in Compressed Sparse Row format>"
      ]
     },
     "execution_count": 57,
     "metadata": {},
     "output_type": "execute_result"
    }
   ],
   "source": [
    "X_train_transformed"
   ]
  },
  {
   "cell_type": "code",
   "execution_count": 64,
   "metadata": {},
   "outputs": [],
   "source": [
    "# Preprocesamiento de la pregunta\n",
    "def preprocess_question(question):\n",
    "    # Aplicar el mismo preprocesamiento que se hizo en los datos de entrenamiento\n",
    "    preprocessed_question = lemmatize_text(question)  # Usar la función de lematización\n",
    "    preprocessed_question = tokenize_and_stem(preprocessed_question)  # Usar la función de tokenización y stemming\n",
    "    return preprocessed_question\n"
   ]
  },
  {
   "cell_type": "code",
   "execution_count": 72,
   "metadata": {},
   "outputs": [
    {
     "name": "stdout",
     "output_type": "stream",
     "text": [
      "El modelo predice que la pregunta pertenece a la clase:  Regulaciones\n"
     ]
    }
   ],
   "source": [
    "question = \"Full metal\"\n",
    "preprocessed_question = preprocess_question(question.lower())\n",
    "question_vectorized = vectorizer.transform([preprocessed_question])\n",
    "predicted_class = model.predict(question_vectorized)\n",
    "\n",
    "print(\"El modelo predice que la pregunta pertenece a la clase: \",predicted_class[0])"
   ]
  }
 ],
 "metadata": {
  "kernelspec": {
   "display_name": "base",
   "language": "python",
   "name": "python3"
  },
  "language_info": {
   "codemirror_mode": {
    "name": "ipython",
    "version": 3
   },
   "file_extension": ".py",
   "mimetype": "text/x-python",
   "name": "python",
   "nbconvert_exporter": "python",
   "pygments_lexer": "ipython3",
   "version": "3.11.7"
  }
 },
 "nbformat": 4,
 "nbformat_minor": 2
}
